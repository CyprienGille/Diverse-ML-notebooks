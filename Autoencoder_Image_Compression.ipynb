{
  "cells": [
    {
      "cell_type": "markdown",
      "metadata": {
        "id": "fRR-mAhGutbC"
      },
      "source": [
        "# Autoencoders for image compression\n",
        "## Lab from the 25/10/2021\n",
        "\n",
        "---\n",
        "### *Cyprien Gille*\n",
        "\n",
        "---"
      ]
    },
    {
      "cell_type": "markdown",
      "metadata": {
        "id": "M4CZrC0gXjPk"
      },
      "source": [
        "### Building the encoder\n",
        "We're going to use the MNIST dataset where the size of each image is 28x28. \n",
        "We set the shape to (784) rather than (28, 28) because we're going to use only dense layers in the network and thus the input must be in the form of a vector, not a matrix.\n",
        "We are gonna implement a model containing the following layers:\n",
        "\n",
        "*   `Dense` layer with 300 neurons\n",
        "*   `LeakyReLU` layer\n",
        "*   `Dense` layer with 2 neurons\n",
        "*   `LeakyReLU` layer"
      ]
    },
    {
      "cell_type": "code",
      "execution_count": 1,
      "metadata": {
        "id": "xwKeIsD9OlvS"
      },
      "outputs": [],
      "source": [
        "import tensorflow.keras.layers\n",
        "import tensorflow.keras.models\n",
        "\n",
        "x = tensorflow.keras.layers.Input(shape=(784), name=\"encoder_input\")\n",
        "\n",
        "encoder_dense_layer1 = tensorflow.keras.layers.Dense(units=300, name=\"encoder_dense_1\")(x)\n",
        "encoder_activ_layer1 = tensorflow.keras.layers.LeakyReLU(name=\"encoder_leakyrelu_1\")(encoder_dense_layer1)\n",
        "\n",
        "encoder_dense_layer2 = tensorflow.keras.layers.Dense(units=2, name=\"encoder_dense_2\")(encoder_activ_layer1)\n",
        "encoder_output = tensorflow.keras.layers.LeakyReLU(name=\"encoder_leakyrelu_2\")(encoder_dense_layer2)"
      ]
    },
    {
      "cell_type": "markdown",
      "metadata": {
        "id": "Ssk5DxEfYUck"
      },
      "source": [
        "Build the encoder model"
      ]
    },
    {
      "cell_type": "code",
      "execution_count": 2,
      "metadata": {
        "id": "0oi2DUdtOtqu"
      },
      "outputs": [],
      "source": [
        "encoder = tensorflow.keras.models.Model(x, encoder_output, name=\"encoder_model\")"
      ]
    },
    {
      "cell_type": "markdown",
      "metadata": {
        "id": "IrTh_O-oYZU9"
      },
      "source": [
        "We can print a summary of the encoder's architecture:"
      ]
    },
    {
      "cell_type": "code",
      "execution_count": 3,
      "metadata": {
        "colab": {
          "base_uri": "https://localhost:8080/"
        },
        "id": "UTP93VTzYjnQ",
        "outputId": "e31d0da4-389e-4905-c78f-ef3f672268cd"
      },
      "outputs": [
        {
          "name": "stdout",
          "output_type": "stream",
          "text": [
            "Model: \"encoder_model\"\n",
            "_________________________________________________________________\n",
            "Layer (type)                 Output Shape              Param #   \n",
            "=================================================================\n",
            "encoder_input (InputLayer)   [(None, 784)]             0         \n",
            "_________________________________________________________________\n",
            "encoder_dense_1 (Dense)      (None, 300)               235500    \n",
            "_________________________________________________________________\n",
            "encoder_leakyrelu_1 (LeakyRe (None, 300)               0         \n",
            "_________________________________________________________________\n",
            "encoder_dense_2 (Dense)      (None, 2)                 602       \n",
            "_________________________________________________________________\n",
            "encoder_leakyrelu_2 (LeakyRe (None, 2)                 0         \n",
            "=================================================================\n",
            "Total params: 236,102\n",
            "Trainable params: 236,102\n",
            "Non-trainable params: 0\n",
            "_________________________________________________________________\n"
          ]
        }
      ],
      "source": [
        "encoder.summary()"
      ]
    },
    {
      "cell_type": "markdown",
      "metadata": {
        "id": "0U5X8ySIYt7K"
      },
      "source": [
        "### Building the decoder\n",
        "Because the input layer of the decoder accepts the output returned from the last layer in the encoder, we have to make sure these 2 layers match in the size. The last layer in the encoder returns a vector of 2 elements and thus the input of the decoder must have 2 neurons. You can easily note that the layers of the decoder are just reflection to those in the encoder.\n",
        "\n",
        "After the input layer, our decoder model should contain the following layers:\n",
        "*   `Dense` layer with 300 neurons\n",
        "*   `LeakyReLU` layer\n",
        "*   `Dense` layer with 784 neurons\n",
        "*   `LeakyReLU` layer"
      ]
    },
    {
      "cell_type": "code",
      "execution_count": 4,
      "metadata": {
        "id": "HRCL1pqLOt33"
      },
      "outputs": [],
      "source": [
        "decoder_input = tensorflow.keras.layers.Input(shape=(2), name=\"decoder_input\")\n",
        "\n",
        "decoder_dense_layer1 = tensorflow.keras.layers.Dense(units=300, name=\"decoder_dense_1\")(decoder_input)\n",
        "decoder_activ_layer1 = tensorflow.keras.layers.LeakyReLU(name=\"decoder_leakyrelu_1\")(decoder_dense_layer1)\n",
        "\n",
        "decoder_dense_layer2 = tensorflow.keras.layers.Dense(units=784, name=\"decoder_dense_2\")(decoder_activ_layer1)\n",
        "decoder_output = tensorflow.keras.layers.LeakyReLU(name=\"decoder_leakyrelu_2\")(decoder_dense_layer2)\n"
      ]
    },
    {
      "cell_type": "markdown",
      "metadata": {
        "id": "CmYj0gBaY9lH"
      },
      "source": [
        "Build de decoder model"
      ]
    },
    {
      "cell_type": "code",
      "execution_count": 5,
      "metadata": {
        "colab": {
          "base_uri": "https://localhost:8080/"
        },
        "id": "H-qKTXyNOt6m",
        "outputId": "edb816c5-8259-4e12-916c-420be75099c5"
      },
      "outputs": [
        {
          "name": "stdout",
          "output_type": "stream",
          "text": [
            "Model: \"decoder_model\"\n",
            "_________________________________________________________________\n",
            "Layer (type)                 Output Shape              Param #   \n",
            "=================================================================\n",
            "decoder_input (InputLayer)   [(None, 2)]               0         \n",
            "_________________________________________________________________\n",
            "decoder_dense_1 (Dense)      (None, 300)               900       \n",
            "_________________________________________________________________\n",
            "decoder_leakyrelu_1 (LeakyRe (None, 300)               0         \n",
            "_________________________________________________________________\n",
            "decoder_dense_2 (Dense)      (None, 784)               235984    \n",
            "_________________________________________________________________\n",
            "decoder_leakyrelu_2 (LeakyRe (None, 784)               0         \n",
            "=================================================================\n",
            "Total params: 236,884\n",
            "Trainable params: 236,884\n",
            "Non-trainable params: 0\n",
            "_________________________________________________________________\n"
          ]
        }
      ],
      "source": [
        "decoder = tensorflow.keras.models.Model(decoder_input, decoder_output, name=\"decoder_model\")\n",
        "decoder.summary()"
      ]
    },
    {
      "cell_type": "markdown",
      "metadata": {
        "id": "YC301so4ZLzQ"
      },
      "source": [
        "### Build the complete autoencoder\n",
        "The tensor named `ae_input` represents the input layer that accepts a vector of length 784. This tensor is fed to the encoder model as an input. The output from the encoder is saved in `ae_encoder_output` which is then fed to the decoder. Finally, the output of the autoencoder is saved in `ae_decoder_output`."
      ]
    },
    {
      "cell_type": "code",
      "execution_count": 6,
      "metadata": {
        "id": "CPpWaFnaOt8u"
      },
      "outputs": [],
      "source": [
        "ae_input = tensorflow.keras.layers.Input(shape=(784), name=\"AE_input\")\n",
        "ae_encoder_output = encoder(ae_input)\n",
        "ae_decoder_output = decoder(ae_encoder_output)"
      ]
    },
    {
      "cell_type": "code",
      "execution_count": 7,
      "metadata": {
        "colab": {
          "base_uri": "https://localhost:8080/"
        },
        "id": "yAjGQiOCpZFe",
        "outputId": "1c6bc3a4-a835-4349-e0c7-98d2bbdbb176"
      },
      "outputs": [
        {
          "name": "stdout",
          "output_type": "stream",
          "text": [
            "Model: \"AE\"\n",
            "_________________________________________________________________\n",
            "Layer (type)                 Output Shape              Param #   \n",
            "=================================================================\n",
            "AE_input (InputLayer)        [(None, 784)]             0         \n",
            "_________________________________________________________________\n",
            "encoder_model (Functional)   (None, 2)                 236102    \n",
            "_________________________________________________________________\n",
            "decoder_model (Functional)   (None, 784)               236884    \n",
            "=================================================================\n",
            "Total params: 472,986\n",
            "Trainable params: 472,986\n",
            "Non-trainable params: 0\n",
            "_________________________________________________________________\n"
          ]
        }
      ],
      "source": [
        "ae = tensorflow.keras.models.Model(ae_input, ae_decoder_output, name=\"AE\")\n",
        "ae.summary()"
      ]
    },
    {
      "cell_type": "markdown",
      "metadata": {
        "id": "hjkAWouqcWBq"
      },
      "source": [
        "### Compile autoencoder model.\n",
        "We want to use the mean square error as loss function and Adam optimizer with learning rate set to 0.0005. For that we will use the `compile()` method."
      ]
    },
    {
      "cell_type": "code",
      "execution_count": 8,
      "metadata": {
        "id": "nS2S_DxyOt_i"
      },
      "outputs": [],
      "source": [
        "from tensorflow.keras.optimizers import Adam\n",
        "from tensorflow.keras.losses import MeanSquaredError\n",
        "ae.compile(optimizer=Adam(5e-3), loss=MeanSquaredError())"
      ]
    },
    {
      "cell_type": "markdown",
      "metadata": {
        "id": "MruvDLeSctxR"
      },
      "source": [
        "### Load Dataset\n",
        "We are going to use the MNIST dataset that can be loaded from the datasets Keras API. The dataset is loaded as NumPy arrays representing the training data, test data, train labels, and test labels. Note that we are not interested in using the class labels at all while training the model but they are just used to display the results. \\\\\n",
        "Because our model accepts the images as vectors of length 784, we must reshape the the images from the dataset into 1D vectors."
      ]
    },
    {
      "cell_type": "code",
      "execution_count": 9,
      "metadata": {
        "colab": {
          "base_uri": "https://localhost:8080/"
        },
        "id": "qvsBcXeSOuBX",
        "outputId": "503e8118-0ffb-44d4-c215-624274853210"
      },
      "outputs": [
        {
          "name": "stdout",
          "output_type": "stream",
          "text": [
            "Downloading data from https://storage.googleapis.com/tensorflow/tf-keras-datasets/mnist.npz\n",
            "11493376/11490434 [==============================] - 0s 0us/step\n",
            "11501568/11490434 [==============================] - 0s 0us/step\n"
          ]
        }
      ],
      "source": [
        "import tensorflow.keras.datasets\n",
        "import numpy\n",
        "\n",
        "(x_train_orig, y_train), (x_test_orig, y_test) = tensorflow.keras.datasets.mnist.load_data()\n",
        "x_train_orig = x_train_orig.astype(\"float32\") / 255.0\n",
        "x_test_orig = x_test_orig.astype(\"float32\") / 255.0\n",
        "\n",
        "x_train = numpy.reshape(x_train_orig, newshape=(x_train_orig.shape[0], numpy.prod(x_train_orig.shape[1:])))\n",
        "x_test = numpy.reshape(x_test_orig, newshape=(x_test_orig.shape[0], numpy.prod(x_test_orig.shape[1:])))"
      ]
    },
    {
      "cell_type": "markdown",
      "metadata": {
        "id": "ChYx1rHgds7o"
      },
      "source": [
        "### Train the autoencoder"
      ]
    },
    {
      "cell_type": "code",
      "execution_count": 10,
      "metadata": {
        "colab": {
          "base_uri": "https://localhost:8080/"
        },
        "id": "7xsZ-idudsLE",
        "outputId": "bd402002-cf33-4717-c008-3ead033c539f"
      },
      "outputs": [
        {
          "name": "stdout",
          "output_type": "stream",
          "text": [
            "Epoch 1/20\n",
            "235/235 [==============================] - 4s 6ms/step - loss: 0.0568 - val_loss: 0.0512\n",
            "Epoch 2/20\n",
            "235/235 [==============================] - 1s 6ms/step - loss: 0.0498 - val_loss: 0.0487\n",
            "Epoch 3/20\n",
            "235/235 [==============================] - 1s 5ms/step - loss: 0.0482 - val_loss: 0.0479\n",
            "Epoch 4/20\n",
            "235/235 [==============================] - 1s 5ms/step - loss: 0.0473 - val_loss: 0.0470\n",
            "Epoch 5/20\n",
            "235/235 [==============================] - 1s 5ms/step - loss: 0.0467 - val_loss: 0.0462\n",
            "Epoch 6/20\n",
            "235/235 [==============================] - 1s 5ms/step - loss: 0.0460 - val_loss: 0.0461\n",
            "Epoch 7/20\n",
            "235/235 [==============================] - 1s 5ms/step - loss: 0.0456 - val_loss: 0.0453\n",
            "Epoch 8/20\n",
            "235/235 [==============================] - 1s 5ms/step - loss: 0.0452 - val_loss: 0.0453\n",
            "Epoch 9/20\n",
            "235/235 [==============================] - 1s 5ms/step - loss: 0.0449 - val_loss: 0.0450\n",
            "Epoch 10/20\n",
            "235/235 [==============================] - 1s 5ms/step - loss: 0.0447 - val_loss: 0.0443\n",
            "Epoch 11/20\n",
            "235/235 [==============================] - 1s 5ms/step - loss: 0.0445 - val_loss: 0.0446\n",
            "Epoch 12/20\n",
            "235/235 [==============================] - 1s 5ms/step - loss: 0.0442 - val_loss: 0.0443\n",
            "Epoch 13/20\n",
            "235/235 [==============================] - 1s 5ms/step - loss: 0.0441 - val_loss: 0.0444\n",
            "Epoch 14/20\n",
            "235/235 [==============================] - 1s 5ms/step - loss: 0.0439 - val_loss: 0.0438\n",
            "Epoch 15/20\n",
            "235/235 [==============================] - 1s 5ms/step - loss: 0.0437 - val_loss: 0.0439\n",
            "Epoch 16/20\n",
            "235/235 [==============================] - 1s 5ms/step - loss: 0.0436 - val_loss: 0.0436\n",
            "Epoch 17/20\n",
            "235/235 [==============================] - 1s 5ms/step - loss: 0.0435 - val_loss: 0.0437\n",
            "Epoch 18/20\n",
            "235/235 [==============================] - 1s 5ms/step - loss: 0.0433 - val_loss: 0.0435\n",
            "Epoch 19/20\n",
            "235/235 [==============================] - 1s 5ms/step - loss: 0.0432 - val_loss: 0.0440\n",
            "Epoch 20/20\n",
            "235/235 [==============================] - 1s 5ms/step - loss: 0.0430 - val_loss: 0.0435\n"
          ]
        },
        {
          "data": {
            "text/plain": [
              "<keras.callbacks.History at 0x7f25401a2c50>"
            ]
          },
          "execution_count": 10,
          "metadata": {},
          "output_type": "execute_result"
        }
      ],
      "source": [
        "ae.fit(x_train, x_train, epochs=20, batch_size=256, shuffle=True, validation_data=(x_test, x_test))"
      ]
    },
    {
      "cell_type": "markdown",
      "metadata": {
        "id": "dRnbfmvafdkj"
      },
      "source": [
        "### Make predictions\n",
        "The `predict()` method is used in the next code to return the outputs of both the encoder and decoder models. The `encoded_images` NumPy array holds the reshaped 1D vectors representing all training images obtained from the MNIST dataset. The decoder model accepts the output of the encoder to reconstruct the original images."
      ]
    },
    {
      "cell_type": "code",
      "execution_count": 11,
      "metadata": {
        "id": "c7SoKGz_OuDj"
      },
      "outputs": [],
      "source": [
        "encoded_images = encoder.predict(x_test)\n",
        "decoded_images = decoder.predict(encoded_images)"
      ]
    },
    {
      "cell_type": "markdown",
      "metadata": {
        "id": "tqdv4Lzsnv95"
      },
      "source": [
        "As we can see below, the variable `encoded_images` contains a compressed representation of each sample. While input images were represented as a 1D vector of length 784, each sample is represented after compression by a 1D vector of length 2."
      ]
    },
    {
      "cell_type": "code",
      "execution_count": 12,
      "metadata": {
        "colab": {
          "base_uri": "https://localhost:8080/"
        },
        "id": "j7ci710Jn2N0",
        "outputId": "57c63c4b-fd60-4386-baf1-ad01b7c28299"
      },
      "outputs": [
        {
          "data": {
            "text/plain": [
              "2"
            ]
          },
          "execution_count": 12,
          "metadata": {},
          "output_type": "execute_result"
        }
      ],
      "source": [
        "encoded_images[1].size"
      ]
    },
    {
      "cell_type": "markdown",
      "metadata": {
        "id": "8ltO3RVAg0ii"
      },
      "source": [
        "After decoding, vectors show a length of 784 again."
      ]
    },
    {
      "cell_type": "code",
      "execution_count": 13,
      "metadata": {
        "colab": {
          "base_uri": "https://localhost:8080/"
        },
        "id": "FqCxng_noCx0",
        "outputId": "caa368dc-0f96-4a85-b447-6ae09bb22284"
      },
      "outputs": [
        {
          "data": {
            "text/plain": [
              "784"
            ]
          },
          "execution_count": 13,
          "metadata": {},
          "output_type": "execute_result"
        }
      ],
      "source": [
        "decoded_images[1].size"
      ]
    },
    {
      "cell_type": "markdown",
      "metadata": {
        "id": "mk_CHCTsoGlt"
      },
      "source": [
        "Finally, we need to reshape the output vectors to get an estimation of the initial data"
      ]
    },
    {
      "cell_type": "code",
      "execution_count": 14,
      "metadata": {
        "id": "taU8GiKLOuFe"
      },
      "outputs": [],
      "source": [
        "decoded_images_orig = numpy.reshape(decoded_images, (x_test_orig.shape))"
      ]
    },
    {
      "cell_type": "markdown",
      "metadata": {
        "id": "-hVR-Ohog-2u"
      },
      "source": [
        "We can display the original and reconstructed images of 5 random samples"
      ]
    },
    {
      "cell_type": "code",
      "execution_count": 15,
      "metadata": {
        "colab": {
          "base_uri": "https://localhost:8080/",
          "height": 269
        },
        "id": "E8FtjRDpO_lG",
        "outputId": "032e93b4-9d84-456d-d12c-23c19f89844e"
      },
      "outputs": [
        {
          "data": {
            "image/png": "[encoded data removed]",
            "text/plain": [
              "<Figure size 432x288 with 10 Axes>"
            ]
          },
          "metadata": {
            "needs_background": "light"
          },
          "output_type": "display_data"
        }
      ],
      "source": [
        "import matplotlib.pyplot as plt\n",
        "\n",
        "num_images_to_show = 5\n",
        "for im_ind in range(num_images_to_show):\n",
        "    plot_ind = im_ind*2 + 1\n",
        "    rand_ind = numpy.random.randint(low=0, high=x_test.shape[0])\n",
        "    plt.subplot(num_images_to_show, 2, plot_ind)\n",
        "    plt.imshow(x_test_orig[rand_ind, :, :], cmap=\"gray\")\n",
        "    plt.subplot(num_images_to_show, 2, plot_ind+1)\n",
        "    plt.imshow(decoded_images_orig[rand_ind, :, :], cmap=\"gray\")"
      ]
    },
    {
      "cell_type": "markdown",
      "metadata": {
        "id": "7oGhsi8423uh"
      },
      "source": [
        "### Testing different rates of compression"
      ]
    },
    {
      "cell_type": "code",
      "execution_count": 16,
      "metadata": {
        "id": "wGRp4c0O1In6"
      },
      "outputs": [],
      "source": [
        "# To make testing easier, we put the model building and training processes in a function\n",
        "\n",
        "def trainAE(latent_dim:int = 2):\n",
        "\n",
        "  e_input = tensorflow.keras.layers.Input(shape=(784), name=\"encoder_input\")\n",
        "  e_dense_layer1 = tensorflow.keras.layers.Dense(units=300, name=\"encoder_dense_1\")(e_input)\n",
        "  e_activ_layer1 = tensorflow.keras.layers.LeakyReLU(name=\"encoder_leakyrelu_1\")(e_dense_layer1)\n",
        "  e_dense_layer2 = tensorflow.keras.layers.Dense(units=latent_dim, name=\"encoder_dense_2\")(e_activ_layer1)\n",
        "  e_output = tensorflow.keras.layers.LeakyReLU(name=\"encoder_leakyrelu_2\")(e_dense_layer2)\n",
        "  encoder = tensorflow.keras.models.Model(e_input, e_output, name=\"encoder_model\")\n",
        "  \n",
        "  d_input = tensorflow.keras.layers.Input(shape=(latent_dim), name=\"decoder_input\")\n",
        "  d_dense_layer1 = tensorflow.keras.layers.Dense(units=300, name=\"decoder_dense_1\")(d_input)\n",
        "  d_activ_layer1 = tensorflow.keras.layers.LeakyReLU(name=\"decoder_leakyrelu_1\")(d_dense_layer1)\n",
        "  d_dense_layer2 = tensorflow.keras.layers.Dense(units=784, name=\"decoder_dense_2\")(d_activ_layer1)\n",
        "  d_output = tensorflow.keras.layers.LeakyReLU(name=\"decoder_leakyrelu_2\")(d_dense_layer2)\n",
        "  decoder = tensorflow.keras.models.Model(d_input, d_output, name=\"decoder_model\")\n",
        "\n",
        "  ae_input = tensorflow.keras.layers.Input(shape=(784), name=\"AE_input\")\n",
        "  ae_output = decoder(encoder(ae_input))\n",
        "  ae = tensorflow.keras.models.Model(ae_input, ae_output, name=\"AE\")\n",
        "\n",
        "  ae.compile(optimizer=Adam(5e-4), loss=MeanSquaredError())\n",
        "  ae.fit(x_train, x_train, epochs=20, batch_size=256, shuffle=True, validation_data=(x_test, x_test), verbose=0)\n",
        "\n",
        "  return ae, encoder, decoder\n"
      ]
    },
    {
      "cell_type": "code",
      "execution_count": 17,
      "metadata": {
        "colab": {
          "base_uri": "https://localhost:8080/"
        },
        "id": "PK7B7LRV5VI5",
        "outputId": "e59c109f-7888-43e3-8d5d-844e798575c8"
      },
      "outputs": [
        {
          "name": "stdout",
          "output_type": "stream",
          "text": [
            "Training model with latent space of dimension 1\n",
            "Training model with latent space of dimension 2\n",
            "Training model with latent space of dimension 3\n",
            "Training model with latent space of dimension 4\n",
            "Training model with latent space of dimension 6\n",
            "Training model with latent space of dimension 8\n",
            "Training model with latent space of dimension 16\n",
            "Training model with latent space of dimension 32\n"
          ]
        }
      ],
      "source": [
        "from numpy import log10\n",
        "\n",
        "# Testing different encoding rates\n",
        "rates = [1, 2, 3, 4, 6, 8, 16, 32] # Note that 8, 16 and 32 would not be smart choices if we are trying to do compression here\n",
        "\n",
        "model_list = []\n",
        "e_list = []\n",
        "d_list = []\n",
        "\n",
        "preds_list = []\n",
        "psnr_list = []\n",
        "mse = MeanSquaredError()\n",
        "for r in rates:\n",
        "  print(f\"Training model with latent space of dimension {r}\")\n",
        "  \n",
        "  ae, encoder, decoder = trainAE(r)\n",
        "  model_list.append(ae)\n",
        "  e_list.append(encoder)\n",
        "  d_list.append(decoder)\n",
        "\n",
        "  x_pred = ae(x_test)\n",
        "  preds_list.append(x_pred)\n",
        "\n",
        "  err = mse(x_test, x_pred).numpy()\n",
        "  psnr = 10 * log10(65025/err) \n",
        "  psnr_list.append(psnr)"
      ]
    },
    {
      "cell_type": "code",
      "execution_count": 46,
      "metadata": {
        "colab": {
          "base_uri": "https://localhost:8080/",
          "height": 279
        },
        "id": "tsyadAIN62pC",
        "outputId": "9c8710cb-a3f4-4e23-c1d4-54c5650d965c"
      },
      "outputs": [
        {
          "data": {
            "image/png": "[encoded data removed]",
            "text/plain": [
              "<Figure size 432x288 with 1 Axes>"
            ]
          },
          "metadata": {
            "needs_background": "light"
          },
          "output_type": "display_data"
        }
      ],
      "source": [
        "from numpy import array\n",
        "\n",
        "plt.scatter(array(rates)/8, psnr_list) # Note: rates are divided by the original number of bits per pixel, 8\n",
        "plt.xlabel(\"Compression rate\")\n",
        "plt.ylabel(\"PSNR\")\n",
        "plt.show()"
      ]
    },
    {
      "cell_type": "markdown",
      "metadata": {
        "id": "OJUBSRtU_1bu"
      },
      "source": [
        "- We can see that the PSNR increases along with the dimension of the latent space. This is an expected result, as the latent space becomes able to encode more information the higher dimension it has. \n",
        "\n",
        "- An interesting point however, is to note that even with a latent dimension higher than the one of the 8-bit space the original pixels resided in, the error (albeit small) remains, and seems to reach a limit. (or else the PSNR would diverge to infinity as the MSE got closer to 0)."
      ]
    },
    {
      "cell_type": "markdown",
      "metadata": {
        "id": "OoK75H-ECjdB"
      },
      "source": [
        "### Entropy"
      ]
    },
    {
      "cell_type": "code",
      "execution_count": 42,
      "metadata": {
        "id": "qOJrSOit-fOH"
      },
      "outputs": [],
      "source": [
        "from numpy import log2, histogram, sum\n",
        "from numpy.linalg import norm\n",
        "\n",
        "\n",
        "def getEntropies(pred, r, n_levels:int = 500):\n",
        "  \"\"\"Get the entropies of the features of the latent space\"\"\"\n",
        "  ent = []\n",
        "  for i in range(r):\n",
        "    P, _ = histogram(pred[:,i], bins=10, density=True) # pis\n",
        "    ent.append(-1 * sum(P * log2(P))) # shannon entropy\n",
        "  return ent\n",
        "\n",
        "  \n",
        "entropies = []\n",
        "\n",
        "for i, enc in enumerate(e_list): # for each encoder trained previously\n",
        "  r = rates[i]\n",
        "  pred = enc.predict(x_test) # predict using the trained encoder of latent dimension r  \n",
        "  entropies.append(sum(getEntropies(pred, r))) # compute the total entropy of all the features of the latent space"
      ]
    },
    {
      "cell_type": "code",
      "execution_count": 44,
      "metadata": {
        "colab": {
          "base_uri": "https://localhost:8080/",
          "height": 279
        },
        "id": "z8FSomi8FcIy",
        "outputId": "875aaa75-ed0d-422e-c09b-22135d95a2fe"
      },
      "outputs": [
        {
          "data": {
            "image/png": "[encoded data removed]",
            "text/plain": [
              "<Figure size 432x288 with 1 Axes>"
            ]
          },
          "metadata": {
            "needs_background": "light"
          },
          "output_type": "display_data"
        }
      ],
      "source": [
        "plt.scatter(entropies, psnr_list)\n",
        "plt.xlabel(\"Total Shannon Entropy of the latent space\")\n",
        "plt.ylabel(\"PSNR\")\n",
        "plt.show()"
      ]
    },
    {
      "cell_type": "markdown",
      "metadata": {
        "id": "Gm_v_blgtQ1S"
      },
      "source": [
        "- We can see that the PSNR increases along with the entropy of the latent space. This is also an expected result, for the same reason quoted before: the latent space has higher entropy intuitively means that it contains more information. Thus, it can encode more data and provide for a better decoding, making the PSNR higher. Once again, we can see that the MSE still doesn't seem to go to 0 (which would make the PSNR infinite) even with high latent space entropies. "
      ]
    }
  ],
  "metadata": {
    "accelerator": "GPU",
    "colab": {
      "collapsed_sections": [],
      "name": "AAI_Autoencoder_image_compression.ipynb",
      "provenance": []
    },
    "kernelspec": {
      "display_name": "Python 3",
      "name": "python3"
    }
  },
  "nbformat": 4,
  "nbformat_minor": 0
}
